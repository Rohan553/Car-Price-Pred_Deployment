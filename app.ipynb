{
 "cells": [
  {
   "cell_type": "code",
   "execution_count": 17,
   "metadata": {},
   "outputs": [
    {
     "name": "stdout",
     "output_type": "stream",
     "text": [
      " * Serving Flask app \"__main__\" (lazy loading)\n",
      " * Environment: production\n",
      "   WARNING: This is a development server. Do not use it in a production deployment.\n",
      "   Use a production WSGI server instead.\n",
      " * Debug mode: off\n"
     ]
    },
    {
     "name": "stderr",
     "output_type": "stream",
     "text": [
      " * Running on http://127.0.0.1:5000/ (Press CTRL+C to quit)\n",
      "127.0.0.1 - - [26/Jan/2021 01:05:14] \"\u001b[37mGET / HTTP/1.1\u001b[0m\" 200 -\n",
      "127.0.0.1 - - [26/Jan/2021 01:05:34] \"\u001b[37mGET /rf_form HTTP/1.1\u001b[0m\" 200 -\n",
      "127.0.0.1 - - [26/Jan/2021 01:06:14] \"\u001b[37mPOST /rf/pred_rf HTTP/1.1\u001b[0m\" 200 -\n"
     ]
    }
   ],
   "source": [
    "from flask import Flask , request , url_for , render_template\n",
    "import joblib\n",
    "lr_model = joblib.load(\"Linear_Regressor.pkl\")\n",
    "rf_model = joblib.load(\"Random_Forest_Regressor.pkl\")\n",
    "\n",
    "app = Flask(__name__)\n",
    "\n",
    "@app.route(\"/\")\n",
    "def welcome():\n",
    "    return render_template(\"Opening Page Carprice.html\")\n",
    "\n",
    "@app.route(\"/linear_form\")\n",
    "def linear_welcome():\n",
    "    return render_template(\"Linear Car Pred.html\")\n",
    "\n",
    "@app.route(\"/rf_form\")\n",
    "def rf_welcome():\n",
    "    return render_template(\"Random Car Pred.html\")\n",
    "\n",
    "@app.route(\"/linear/pred_lr\" , methods = [\"GET\" , \"POST\"])\n",
    "def linear_page():\n",
    "    if request.method==\"POST\":\n",
    "        age_in_years = float(request.form[\"year\"])\n",
    "        Present_Price = float(request.form[\"showroom_price\"])\n",
    "        Kms_Driven = float(request.form[\"km_drived\"])\n",
    "        Owner = float(request.form[\"owners\"])\n",
    "        fuel_type = request.form[\"fuel\"]\n",
    "        if fuel_type == \"Petrol\":\n",
    "            Fuel_Type_Diesel = 0\n",
    "            Fuel_Type_Petrol=1\n",
    "        elif fuel_type == \"Diesel\":\n",
    "            Fuel_Type_Diesel = 1\n",
    "            Fuel_Type_Petrol=0\n",
    "        else:\n",
    "            Fuel_Type_Diesel = 0\n",
    "            Fuel_Type_Petrol=0\n",
    "        seller = request.form[\"dealer\"]\n",
    "        if seller == \"Dealer\":\n",
    "            Seller_Type_Individual=0\n",
    "        else:\n",
    "            Seller_Type_Individual=1\n",
    "        Transmission = request.form[\"transmission\"]\n",
    "        if Transmission == \"Manual\":\n",
    "            Transmission_Manual=1\n",
    "        else:\n",
    "            Transmission_Manual=0\n",
    "        inputs = [[age_in_years ,Present_Price ,Kms_Driven,Owner, Fuel_Type_Diesel,Fuel_Type_Petrol,Seller_Type_Individual,Transmission_Manual]]\n",
    "        price_lr = lr_model.predict(inputs)\n",
    "        return render_template(\"Linear regression output.html\" , price_lr = price_lr)\n",
    "\n",
    "@app.route(\"/rf/pred_rf\" , methods = [\"GET\" , \"POST\"])\n",
    "def rf_page():\n",
    "    if request.method==\"POST\":\n",
    "        age_in_years = float(request.form[\"year\"])\n",
    "        Present_Price = float(request.form[\"showroom_price\"])\n",
    "        Kms_Driven = float(request.form[\"km_drived\"])\n",
    "        Owner = float(request.form[\"owners\"])\n",
    "        fuel_type = request.form[\"fuel\"]\n",
    "        if fuel_type == \"Petrol\":\n",
    "            Fuel_Type_Diesel = 0\n",
    "            Fuel_Type_Petrol=1\n",
    "        elif fuel_type == \"Diesel\":\n",
    "            Fuel_Type_Diesel = 1\n",
    "            Fuel_Type_Petrol=0\n",
    "        else:\n",
    "            Fuel_Type_Diesel = 0\n",
    "            Fuel_Type_Petrol=0\n",
    "        seller = request.form[\"dealer\"]\n",
    "        if seller == \"Dealer\":\n",
    "            Seller_Type_Individual=0\n",
    "        else:\n",
    "            Seller_Type_Individual=1\n",
    "        Transmission = request.form[\"transmission\"]\n",
    "        if Transmission == \"Manual\":\n",
    "            Transmission_Manual=1\n",
    "        else:\n",
    "            Transmission_Manual=0\n",
    "        inputs = [[age_in_years ,Present_Price ,Kms_Driven,Owner, Fuel_Type_Diesel,Fuel_Type_Petrol,Seller_Type_Individual,Transmission_Manual]]\n",
    "        price_rf = rf_model.predict(inputs)\n",
    "        return render_template(\"Random Forest output.html\" , price_rf = price_rf)\n",
    "\n",
    "if __name__ ==\"__main__\":\n",
    "    app.run()       "
   ]
  },
  {
   "cell_type": "code",
   "execution_count": null,
   "metadata": {},
   "outputs": [],
   "source": []
  },
  {
   "cell_type": "code",
   "execution_count": null,
   "metadata": {},
   "outputs": [],
   "source": [
    "\n"
   ]
  },
  {
   "cell_type": "code",
   "execution_count": null,
   "metadata": {},
   "outputs": [],
   "source": []
  },
  {
   "cell_type": "code",
   "execution_count": null,
   "metadata": {},
   "outputs": [],
   "source": []
  }
 ],
 "metadata": {
  "kernelspec": {
   "display_name": "Python 3",
   "language": "python",
   "name": "python3"
  },
  "language_info": {
   "codemirror_mode": {
    "name": "ipython",
    "version": 3
   },
   "file_extension": ".py",
   "mimetype": "text/x-python",
   "name": "python",
   "nbconvert_exporter": "python",
   "pygments_lexer": "ipython3",
   "version": "3.7.4"
  }
 },
 "nbformat": 4,
 "nbformat_minor": 2
}
